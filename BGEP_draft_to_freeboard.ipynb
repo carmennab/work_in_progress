{
 "cells": [
  {
   "cell_type": "code",
   "execution_count": 1,
   "id": "94f97793",
   "metadata": {},
   "outputs": [
    {
     "name": "stderr",
     "output_type": "stream",
     "text": [
      "/var/folders/_1/fh2vf5m57871c546k_sf7xr80000gn/T/ipykernel_21600/2149894352.py:6: DeprecationWarning: Please use `KDTree` from the `scipy.spatial` namespace, the `scipy.spatial.kdtree` namespace is deprecated.\n",
      "  from scipy.spatial.kdtree import KDTree\n"
     ]
    }
   ],
   "source": [
    "import h5py\n",
    "import numpy as np\n",
    "import datetime\n",
    "import matplotlib.pyplot as plt\n",
    "from pyproj import Proj, Transformer\n",
    "from scipy.spatial.kdtree import KDTree\n",
    "from netCDF4 import Dataset\n",
    "import warnings\n",
    "warnings.filterwarnings(\"ignore\")"
   ]
  },
  {
   "cell_type": "markdown",
   "id": "a27e8bcd",
   "metadata": {},
   "source": [
    "### load BGEP buoy data and visualize"
   ]
  },
  {
   "cell_type": "code",
   "execution_count": 2,
   "id": "5ffd5926",
   "metadata": {},
   "outputs": [],
   "source": [
    "filepath = '/Users/carmennab/Dropbox/met_office/BGEP/uls18a_dailyn.mat' # there are three buoys, i'm just using one here\n",
    "\n",
    "with h5py.File(filepath, 'r') as f:\n",
    "    all_drafts = f['IDS'][1,:] # load sea ice draft\n",
    "    std = f['IDS'][2,:] # load standard deviation\n",
    "    drafts = all_drafts[std<=2] # we normally filter out values with an STD > 2m\n",
    "    \n",
    "# create dates list\n",
    "days = np.arange(0,len(drafts)) # file contains daily averages, so one number per day\n",
    "dates = [datetime.date(2018,9,25)+datetime.timedelta(days=np.int(days)) for days in days] # buoy A starts on 25/09/2018"
   ]
  },
  {
   "cell_type": "code",
   "execution_count": 3,
   "id": "7d0fec77",
   "metadata": {},
   "outputs": [
    {
     "data": {
      "text/plain": [
       "([<matplotlib.axis.XTick at 0x7fdf2af7ea90>,\n",
       "  <matplotlib.axis.XTick at 0x7fdf2af7ea60>,\n",
       "  <matplotlib.axis.XTick at 0x7fdf2b062eb0>,\n",
       "  <matplotlib.axis.XTick at 0x7fdf2b076790>,\n",
       "  <matplotlib.axis.XTick at 0x7fdf2b076ca0>],\n",
       " [Text(0, 0, ''),\n",
       "  Text(0, 0, ''),\n",
       "  Text(0, 0, ''),\n",
       "  Text(0, 0, ''),\n",
       "  Text(0, 0, '')])"
      ]
     },
     "execution_count": 3,
     "metadata": {},
     "output_type": "execute_result"
    },
    {
     "data": {
      "image/png": "[encoded data removed]",
      "text/plain": [
       "<Figure size 432x288 with 1 Axes>"
      ]
     },
     "metadata": {
      "needs_background": "light"
     },
     "output_type": "display_data"
    }
   ],
   "source": [
    "# quick plot to check data loaded correctly (as michel always says: visualise, visualise, visualise)\n",
    "plt.plot(dates,drafts)\n",
    "plt.ylabel('Sea Ice Draft (m)')\n",
    "plt.xlabel('Date')\n",
    "x_labels = dates[::250] # label every 250th date\n",
    "plt.xticks(x_labels)"
   ]
  },
  {
   "cell_type": "markdown",
   "id": "f3de67d7",
   "metadata": {},
   "source": [
    "### find nearest EASE grid cell for buoy coords"
   ]
  },
  {
   "cell_type": "code",
   "execution_count": 4,
   "id": "536878ca",
   "metadata": {},
   "outputs": [],
   "source": [
    "def lonlat_to_xy(coords_1, coords_2, hemisphere, inverse=False):\n",
    "\n",
    "    \"\"\"Converts between longitude/latitude and EASE xy coordinates.\n",
    " \n",
    "    Args:\n",
    "        lon (float): WGS84 longitude\n",
    "        lat (float): WGS84 latitude\n",
    "        hemisphere (string): 'n' or 's'\n",
    "        inverse (bool): if true, converts xy to lon/lat\n",
    " \n",
    "    Returns:\n",
    "        tuple: pair of xy or lon/lat values\n",
    "    \"\"\"\n",
    "\n",
    "    EASE_Proj = {'n': 'EPSG:3408',\n",
    "                 's': 'EPGS:3409'}\n",
    "    \n",
    "    WGS_Proj = 'EPSG:4326'\n",
    "    \n",
    "    for coords in [coords_1, coords_2]: assert isinstance(coords,(np.ndarray,list))\n",
    "\n",
    "    if inverse == False: # lonlat to xy\n",
    "        \n",
    "        lon, lat = coords_1, coords_2\n",
    "        \n",
    "        transformer = Transformer.from_crs(WGS_Proj, EASE_Proj[hemisphere])\n",
    "        \n",
    "        x, y = transformer.transform(lat, lon)\n",
    "        \n",
    "        return (x, y)\n",
    "\n",
    "    else: # xy to lonlat\n",
    "        \n",
    "        x, y = coords_1, coords_2\n",
    "        \n",
    "        transformer = Transformer.from_crs(EASE_Proj[hemisphere], WGS_Proj)\n",
    "        \n",
    "        lat, lon = transformer.transform(x, y)\n",
    "        \n",
    "        return (lon, lat)"
   ]
  },
  {
   "cell_type": "code",
   "execution_count": 5,
   "id": "c1ef2fb2",
   "metadata": {},
   "outputs": [],
   "source": [
    "# the buoys stay stationary at a fixed coordinate:\n",
    "buoy_lat = 75.00079\n",
    "buoy_lon = -149.599659\n",
    "\n",
    "# convert lon,lat into x,y:\n",
    "buoy_x,buoy_y = lonlat_to_xy(np.array(buoy_lon),\n",
    "                       np.array(buoy_lat),\n",
    "                       hemisphere='n')"
   ]
  },
  {
   "cell_type": "code",
   "execution_count": 6,
   "id": "77004e1b",
   "metadata": {},
   "outputs": [
    {
     "name": "stdout",
     "output_type": "stream",
     "text": [
      "(237, 146)\n"
     ]
    }
   ],
   "source": [
    "# load ease lons,lats:\n",
    "ease_lats = np.asarray(Dataset('/Users/carmennab/Dropbox/OI_PolarSnow/EASE/data/SMLG_sden_EASE.nc')['Latitude'])\n",
    "ease_lons = np.asarray(Dataset('/Users/carmennab/Dropbox/OI_PolarSnow/EASE/data/SMLG_sden_EASE.nc')['Longitude'])\n",
    "\n",
    "# convert into x,y:\n",
    "ease_x, ease_y = lonlat_to_xy(ease_lons,ease_lats,hemisphere='n')\n",
    "\n",
    "# get index of EASE grid cell closest to buoy:\n",
    "tree = KDTree(list(zip(ease_x.ravel(),ease_y.ravel())))\n",
    "\n",
    "ease_inds = {}\n",
    "\n",
    "dist, ind = tree.query([buoy_x,buoy_y])\n",
    "\n",
    "ind2d = np.unravel_index(ind, (360,360))\n",
    "\n",
    "print(ind2d)"
   ]
  },
  {
   "cell_type": "code",
   "execution_count": 7,
   "id": "61e0483b",
   "metadata": {},
   "outputs": [
    {
     "name": "stdout",
     "output_type": "stream",
     "text": [
      "snow density on day 0: 191.9009839875209\n",
      "snow depth on day 0: 0.05281627657442456\n"
     ]
    }
   ],
   "source": [
    "# find SM-LG snow depth and density on example day to check everything worked:\n",
    "# (my SM-LG files run from 01/01/2010 - 31/12/2020 so just selecting from 25/9/2018 onwards)\n",
    "sden = np.asarray(Dataset('/Users/carmennab/Dropbox/OI_PolarSnow/EASE/data/SMLG_sden_EASE.nc')['Snow Density'])[3189:] \n",
    "snod = np.asarray(Dataset('/Users/carmennab/Dropbox/OI_PolarSnow/EASE/data/SMLG_snod_EASE.nc')['Snow Depth'])[3189:]\n",
    "\n",
    "sden_buoy_a = sden[100][ind2d] \n",
    "snod_buoy_a = snod[100][ind2d] \n",
    "\n",
    "print('snow density on day 0:',sden_buoy_a)\n",
    "print('snow depth on day 0:',snod_buoy_a)"
   ]
  },
  {
   "cell_type": "markdown",
   "id": "09d0f4cc",
   "metadata": {},
   "source": [
    "### turn sea ice draft into freeboard"
   ]
  },
  {
   "cell_type": "markdown",
   "id": "415cee8f",
   "metadata": {},
   "source": [
    "rearranging Eq. 2 from Kern et al. 2015 (doi.org/10.5194/tc-9-37-2015):"
   ]
  },
  {
   "cell_type": "markdown",
   "id": "befc7371",
   "metadata": {},
   "source": [
    "# $f_b = \\frac{D(\\rho_w-\\rho_i)-Z_s\\rho_s}{\\rho_i}$"
   ]
  },
  {
   "cell_type": "markdown",
   "id": "bb9ef330",
   "metadata": {},
   "source": [
    "assuming ice freeboard = radar freeboard"
   ]
  },
  {
   "cell_type": "code",
   "execution_count": 8,
   "id": "5127768c",
   "metadata": {},
   "outputs": [],
   "source": [
    "# create array of snow depth and density\n",
    "days = np.arange(0,len(sden))\n",
    "\n",
    "sdens_buoy_a = [sden[day][ind2d] for day in days]\n",
    "snods_buoy_a = [snod[day][ind2d] for day in days]"
   ]
  },
  {
   "cell_type": "code",
   "execution_count": 9,
   "id": "d9ecf716",
   "metadata": {},
   "outputs": [],
   "source": [
    "# calculate freeboard for each day:\n",
    "\n",
    "def draft_to_freeboard(day):\n",
    "    \n",
    "    D = drafts[day]\n",
    "    rho_w = 1030\n",
    "    rho_i = 900\n",
    "    Zs = snods_buoy_a[day]\n",
    "    rho_s = sdens_buoy_a[day]\n",
    "\n",
    "    fb = ((D*(rho_w-rho_i))-(Zs*rho_s)) / rho_i\n",
    "    \n",
    "    return(fb)\n",
    "\n",
    "freeboards = [draft_to_freeboard(day) for day in days]"
   ]
  },
  {
   "cell_type": "code",
   "execution_count": 10,
   "id": "340c63b6",
   "metadata": {},
   "outputs": [
    {
     "data": {
      "text/plain": [
       "Text(0, 0.5, 'Freeboard (m)')"
      ]
     },
     "execution_count": 10,
     "metadata": {},
     "output_type": "execute_result"
    },
    {
     "data": {
      "image/png": "[encoded data removed]",
      "text/plain": [
       "<Figure size 432x288 with 1 Axes>"
      ]
     },
     "metadata": {
      "needs_background": "light"
     },
     "output_type": "display_data"
    }
   ],
   "source": [
    "plt.plot(days,freeboards)\n",
    "plt.xlabel('Day')\n",
    "plt.ylabel('Freeboard (m)')"
   ]
  },
  {
   "cell_type": "code",
   "execution_count": 11,
   "id": "b806833d",
   "metadata": {},
   "outputs": [],
   "source": [
    "### some nans above because I'm missing some of the SM-LG data, but you get the idea"
   ]
  }
 ],
 "metadata": {
  "kernelspec": {
   "display_name": "Python 3 (ipykernel)",
   "language": "python",
   "name": "python3"
  },
  "language_info": {
   "codemirror_mode": {
    "name": "ipython",
    "version": 3
   },
   "file_extension": ".py",
   "mimetype": "text/x-python",
   "name": "python",
   "nbconvert_exporter": "python",
   "pygments_lexer": "ipython3",
   "version": "3.8.15"
  }
 },
 "nbformat": 4,
 "nbformat_minor": 5
}
