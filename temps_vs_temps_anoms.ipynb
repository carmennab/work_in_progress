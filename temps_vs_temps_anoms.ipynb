{
 "cells": [
  {
   "cell_type": "code",
   "execution_count": 6,
   "id": "34c945dc",
   "metadata": {},
   "outputs": [],
   "source": [
    "import numpy as np\n",
    "import matplotlib.pyplot as plt\n",
    "from netCDF4 import Dataset\n",
    "from matplotlib.colors import LinearSegmentedColormap\n",
    "from matplotlib import gridspec\n",
    "import cartopy.crs as ccrs\n",
    "import cartopy\n",
    "import itertools\n",
    "import tqdm\n",
    "import datetime\n",
    "from scipy.stats import linregress\n",
    "from scipy.interpolate import griddata\n",
    "import warnings\n",
    "warnings.filterwarnings(\"ignore\")"
   ]
  },
  {
   "cell_type": "code",
   "execution_count": 9,
   "id": "79456c3d",
   "metadata": {},
   "outputs": [],
   "source": [
    "datapath = '/Users/carmennab/Dropbox/OI_PolarSnow/EASE/'\n",
    "freebs = np.asarray(Dataset(datapath+'freeboard_daily_interpolated/CS2_CPOM_full.nc')['Radar Freeboard'])\n",
    "temps = np.asarray(Dataset(datapath+'data/ERA5_temp.nc')['Temperature'])\n",
    "temps[np.isnan(freebs)]=np.nan                                                                                                                                                                                                                                              "
   ]
  },
  {
   "cell_type": "code",
   "execution_count": 10,
   "id": "bbf5d909",
   "metadata": {},
   "outputs": [
    {
     "name": "stderr",
     "output_type": "stream",
     "text": [
      "100%|█████████████████████████████████████████████████████████████████████████████████████████████████████████████████████████████| 4018/4018 [00:39<00:00, 102.54it/s]\n",
      "100%|█████████████████████████████████████████████████████████████████████████████████████████████████████████████████████████████| 4018/4018 [00:13<00:00, 287.44it/s]\n"
     ]
    }
   ],
   "source": [
    "# do smooth anoms for each grid cell\n",
    "\n",
    "T1 = 15 ## for 31-day running mean put T=15\n",
    "T2 = 4 ## for 9-day running mean of anomalies put T=4\n",
    "\n",
    "data = [temps]\n",
    "\n",
    "temp_running_mean_anoms = np.full(temps.shape,np.nan)\n",
    "  \n",
    "anoms_big = np.full(temps.shape,np.nan)\n",
    "\n",
    "for day in tqdm.trange(temps.shape[0]):\n",
    "\n",
    "    # 31-day running mean for each grid cell in time dimension\n",
    "    monthly = np.nanmean(temps[day-T1:day+T1],axis=0) \n",
    "\n",
    "    # now make anomalies from 30 day means\n",
    "\n",
    "    anoms_big[day] = temps[day] - monthly \n",
    "\n",
    "# 9 day mean of anoms for each grid cell in time dimension\n",
    "for day in tqdm.trange(temps.shape[0]):\n",
    "\n",
    "    temp_running_mean_anoms[day] = np.nanmean(anoms_big[day-T2:day+T2],axis=0) "
   ]
  },
  {
   "cell_type": "code",
   "execution_count": 11,
   "id": "03dd6af1",
   "metadata": {},
   "outputs": [
    {
     "data": {
      "text/plain": [
       "Text(0.5, 0, 'Temperature')"
      ]
     },
     "execution_count": 11,
     "metadata": {},
     "output_type": "execute_result"
    },
    {
     "data": {
      "image/png": "[encoded data removed]",
      "text/plain": [
       "<Figure size 432x288 with 1 Axes>"
      ]
     },
     "metadata": {
      "needs_background": "light"
     },
     "output_type": "display_data"
    }
   ],
   "source": [
    "plt.scatter(temps,temp_running_mean_anoms)\n",
    "plt.ylabel('Temperature Smoothed Anomaly')\n",
    "plt.xlabel('Temperature')"
   ]
  },
  {
   "cell_type": "code",
   "execution_count": null,
   "id": "be84aa29",
   "metadata": {},
   "outputs": [],
   "source": []
  }
 ],
 "metadata": {
  "kernelspec": {
   "display_name": "Python 3 (ipykernel)",
   "language": "python",
   "name": "python3"
  },
  "language_info": {
   "codemirror_mode": {
    "name": "ipython",
    "version": 3
   },
   "file_extension": ".py",
   "mimetype": "text/x-python",
   "name": "python",
   "nbconvert_exporter": "python",
   "pygments_lexer": "ipython3",
   "version": "3.8.15"
  }
 },
 "nbformat": 4,
 "nbformat_minor": 5
}
