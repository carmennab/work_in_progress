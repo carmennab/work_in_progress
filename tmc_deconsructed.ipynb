{
 "cells": [
  {
   "cell_type": "code",
   "execution_count": null,
   "id": "d05cdc05",
   "metadata": {},
   "outputs": [],
   "source": [
    "import numpy as np\n",
    "from netCDF4 import Dataset\n",
    "import datetime\n",
    "import glob\n",
    "import os\n",
    "import matplotlib.pyplot as plt\n",
    "import cartopy\n",
    "from matplotlib import gridspec\n",
    "from regrid import regrid\n",
    "import pandas as pd\n",
    "import itertools\n",
    "import cartopy.crs as ccrs\n",
    "import tqdm\n",
    "from scipy.stats import linregress\n",
    "import warnings\n",
    "warnings.filterwarnings(\"ignore\")"
   ]
  },
  {
   "cell_type": "code",
   "execution_count": null,
   "id": "49c71b56",
   "metadata": {},
   "outputs": [],
   "source": [
    "rho_fyi = 916.7\n",
    "rho_myi = 882\n",
    "icetype = np.array(Dataset('/Users/carmennab/Dropbox/met_office/data/auxiliary/icetype.nc')['Ice Type'])\n",
    "icetype[icetype==2] = rho_fyi\n",
    "icetype[icetype==3] = rho_myi"
   ]
  },
  {
   "cell_type": "code",
   "execution_count": null,
   "id": "bcae184a",
   "metadata": {},
   "outputs": [],
   "source": [
    "datapath = '/Users/carmennab/Dropbox/met_office/data/experiments/FOAM_grid/'\n",
    "ctrl = Dataset(datapath+'rosie_UCL_CTL_NOSIT_ASSIM_r243541_dcarneir.nc')\n",
    "base = Dataset(datapath+'rosie_UCL_BASELINE_SIT_ASSIM_CS2_AWI_SNFOAM_ALPHA1_r243541_dcarneir.nc')\n",
    "unc = Dataset(datapath+'rosie_UCL_SIT_ASSIM_CS2_AWI_SNFOAM_ALPHA1_NEW_OBERR_r243541_dcarneir.nc')\n",
    "### alpha\n",
    "nine = Dataset(datapath+'rosie_UCL_SIT_ASSIM_CS2_AWI_SNFOAM_ALPHA09_r243541_dcarneir.nc')\n",
    "six = Dataset(datapath+'rosie_UCL_SIT_ASSIM_CS2_AWI_SNFOAM_ALPHA06_r243541_dcarneir.nc')\n",
    "### retracker\n",
    "larm = Dataset(datapath+'rosie_UCL_SIT_ASSIM_CS2_BRISTOL_SNFOAM_ALPHA1_r243541_dcarneir.nc')\n",
    "cpom = Dataset(datapath+'rosie_UCL_SIT_ASSIM_CS2_CPOM_SNFOAM_ALPHA1_r243541_dcarneir.nc')\n",
    "### snow\n",
    "smlg = Dataset(datapath+'rosie_UCL_SIT_ASSIM_CS2_AWI_SNLG_ALPHA1_r243541_dcarneir.nc')\n",
    "awi = Dataset(datapath+'rosie_UCL_SIT_ASSIM_CS2_AWI_SNAWI_ALPHA1_r243541_dcarneir.nc')\n",
    "\n",
    "sits = [ctrl,base,nine,six,larm,cpom,smlg,awi,unc]\n",
    "names = ['CTRL','BASE','\\u03B1 = 0.9', '\\u03B1 = 0.6','LARM','CPOM','SM-LG','AWI','UNC']\n",
    "\n",
    "foam_lats = np.load('/Users/carmennab/Dropbox/met_office/data/auxiliary/lat_cent.npy')\n",
    "foam_lons = np.load('/Users/carmennab/Dropbox/met_office/data/auxiliary/lon_cent.npy')"
   ]
  },
  {
   "cell_type": "markdown",
   "id": "171c7d76",
   "metadata": {},
   "source": [
    "### season total"
   ]
  },
  {
   "cell_type": "code",
   "execution_count": null,
   "id": "712bd278",
   "metadata": {},
   "outputs": [],
   "source": [
    "variables = ['sidmassgrowthbot','sidmassgrowthwat','sidmasssi','sidmassmelttop','sidmassmeltbot',\n",
    "            'sidmassmeltlat','sidmassth']\n",
    "var_names = ['congelation','frazil growth','snow-ice growth','top melt','bottom melt',\n",
    "         'lateral melt','total growth']\n",
    "\n",
    "data = []\n",
    "for sit, sit_name in zip(sits,names):\n",
    "    print(sit_name)\n",
    "    totals = {}\n",
    "    for name, variable in zip(var_names,variables):\n",
    "        area = np.array(sit['area'])\n",
    "        rate = np.array(sit[variable])\n",
    "        dens = icetype.copy()\n",
    "        dens[np.isnan(dens)&~np.isnan(rate)] = rho_fyi # if icetype unknown, use fyi density\n",
    "        mass = rate * area * 86400 # convert from rate per second to total mass per day\n",
    "        vol = mass / dens\n",
    "        vol_m = np.nansum(vol) # add up grid cells to get total pan-arctic volume\n",
    "        totals[name] = vol_m * 0.0000000000001 # convert m^3 to 10^4 km^3 \n",
    "    data.append(totals)     \n",
    "    \n",
    "df = pd.DataFrame(data,columns=var_names)\n",
    "df"
   ]
  },
  {
   "cell_type": "markdown",
   "id": "08ef02f1",
   "metadata": {},
   "source": [
    "### season total relative to BASE"
   ]
  },
  {
   "cell_type": "code",
   "execution_count": null,
   "id": "14debdbb",
   "metadata": {},
   "outputs": [],
   "source": [
    "totals = []\n",
    "for c,d in enumerate(data):\n",
    "    if c == 1: pass\n",
    "    else:\n",
    "        diffs = {}\n",
    "        for var_name in var_names:\n",
    "            diffs[var_name] = d[var_name] - data[1][var_name]\n",
    "        totals.append(diffs)\n",
    "\n",
    "df_base = pd.DataFrame(totals,columns=var_names)\n",
    "df_base"
   ]
  },
  {
   "cell_type": "markdown",
   "id": "a1ff3116",
   "metadata": {},
   "source": [
    "### plot figure"
   ]
  },
  {
   "cell_type": "code",
   "execution_count": null,
   "id": "47e48a8f",
   "metadata": {},
   "outputs": [],
   "source": [
    "fig,axes = plt.subplots(figsize=(15,11.5),nrows=2, ncols=1)\n",
    "plt.rc('font', size=15)\n",
    "colors = ['#1f78b4','#ff7f00','#6a3d9a','#e31a1c','#33a02c','#fdbf6f','grey']\n",
    "\n",
    "names = ['CTRL','BASE','\\u03B1 = 0.9', '\\u03B1 = 0.6','LARM','CPOM','SM-LG','AWI','UNC']\n",
    "ax = df.plot.bar(ax=axes[0],color=colors)\n",
    "ax.set_xticklabels(names,rotation=25)\n",
    "ax.set_ylim([-3,4])\n",
    "ax.set_yticks([-3,-2,-1,0,1,2,3,4])\n",
    "ax.legend(var_names,bbox_to_anchor = (1, 1.025))\n",
    "ax.set_title('total pan-Arctic growth and melt')\n",
    "ax.set_ylabel('volume (10$^{4}$ km$^{3}$)')\n",
    "\n",
    "names = ['CTRL','\\u03B1 = 0.9', '\\u03B1 = 0.6','LARM','CPOM','SM-LG','AWI','UNC']\n",
    "ax = df_base.plot.bar(ax=axes[1],legend=False,color=colors)\n",
    "ax.set_xticklabels(names,rotation=25)\n",
    "ax.set_title('total pan-Arctic growth and melt relative to BASE ')\n",
    "ax.set_ylabel('volume (10$^{4}$ km$^{3}$)')\n",
    "ax.set_ylim([-1.5,0.5])\n",
    "ax.set_yticks([-1.5,-1,-0.5,0,0.5])\n",
    "\n",
    "fig.tight_layout()\n",
    "datapath = '/Users/carmennab/Dropbox/Apps/Overleaf/FOAM sensitivity/main_figs/'\n",
    "plt.savefig(datapath+'tmc_deconstructed.png',dpi=400, bbox_inches=\"tight\")"
   ]
  }
 ],
 "metadata": {
  "kernelspec": {
   "display_name": "Python 3 (ipykernel)",
   "language": "python",
   "name": "python3"
  },
  "language_info": {
   "codemirror_mode": {
    "name": "ipython",
    "version": 3
   },
   "file_extension": ".py",
   "mimetype": "text/x-python",
   "name": "python",
   "nbconvert_exporter": "python",
   "pygments_lexer": "ipython3",
   "version": "3.8.15"
  }
 },
 "nbformat": 4,
 "nbformat_minor": 5
}
